{
 "metadata": {
  "language_info": {
   "codemirror_mode": {
    "name": "ipython",
    "version": 3
   },
   "file_extension": ".py",
   "mimetype": "text/x-python",
   "name": "python",
   "nbconvert_exporter": "python",
   "pygments_lexer": "ipython3",
   "version": "3.8.2-final"
  },
  "orig_nbformat": 2,
  "kernelspec": {
   "name": "python38264bitcd6fc036ba894e019b1dac8bea90c69a",
   "display_name": "Python 3.8.2 64-bit"
  }
 },
 "nbformat": 4,
 "nbformat_minor": 2,
 "cells": [
  {
   "cell_type": "code",
   "execution_count": 6,
   "metadata": {},
   "outputs": [
    {
     "output_type": "error",
     "ename": "NameError",
     "evalue": "name 'randmark_pos' is not defined",
     "traceback": [
      "\u001b[0;31m---------------------------------------------------------------------------\u001b[0m",
      "\u001b[0;31mNameError\u001b[0m                                 Traceback (most recent call last)",
      "\u001b[0;32m<ipython-input-6-a15f9676c73f>\u001b[0m in \u001b[0;36m<module>\u001b[0;34m\u001b[0m\n\u001b[1;32m     25\u001b[0m     \u001b[0mdistance_dev_rate\u001b[0m \u001b[0;34m=\u001b[0m \u001b[0;36m1000\u001b[0m\u001b[0;34m\u001b[0m\u001b[0;34m\u001b[0m\u001b[0m\n\u001b[1;32m     26\u001b[0m     \u001b[0mdirection_dev\u001b[0m \u001b[0;34m=\u001b[0m \u001b[0;36m1000\u001b[0m\u001b[0;34m\u001b[0m\u001b[0;34m\u001b[0m\u001b[0m\n\u001b[0;32m---> 27\u001b[0;31m     \u001b[0mobs_pos\u001b[0m \u001b[0;34m=\u001b[0m \u001b[0mrandmark_pos\u001b[0m\u001b[0;34m\u001b[0m\u001b[0;34m\u001b[0m\u001b[0m\n\u001b[0m\u001b[1;32m     28\u001b[0m     \u001b[0mdistance_dev\u001b[0m \u001b[0;34m=\u001b[0m \u001b[0mdistance_dev_rate\u001b[0m \u001b[0;34m*\u001b[0m \u001b[0mparticle_suggest_pos\u001b[0m\u001b[0;34m[\u001b[0m\u001b[0;36m0\u001b[0m\u001b[0;34m]\u001b[0m\u001b[0;34m\u001b[0m\u001b[0;34m\u001b[0m\u001b[0m\n\u001b[1;32m     29\u001b[0m     \u001b[0mcov\u001b[0m \u001b[0;34m=\u001b[0m \u001b[0mnp\u001b[0m\u001b[0;34m.\u001b[0m\u001b[0mdiag\u001b[0m\u001b[0;34m(\u001b[0m\u001b[0mnp\u001b[0m\u001b[0;34m.\u001b[0m\u001b[0marray\u001b[0m\u001b[0;34m(\u001b[0m\u001b[0;34m[\u001b[0m\u001b[0mdistance_dev\u001b[0m \u001b[0;34m**\u001b[0m \u001b[0;36m2\u001b[0m\u001b[0;34m,\u001b[0m \u001b[0mdirection_dev\u001b[0m \u001b[0;34m**\u001b[0m \u001b[0;36m2\u001b[0m\u001b[0;34m]\u001b[0m\u001b[0;34m)\u001b[0m\u001b[0;34m)\u001b[0m\u001b[0;34m\u001b[0m\u001b[0;34m\u001b[0m\u001b[0m\n",
      "\u001b[0;31mNameError\u001b[0m: name 'randmark_pos' is not defined"
     ]
    }
   ],
   "source": [
    "\n",
    "import numpy as np\n",
    "import math\n",
    "from scipy.stats import multivariate_normal\n",
    "\n",
    "PARTICLES_NUM = 50\n",
    "particles_theta = np.zeros(PARTICLES_NUM)\n",
    "particles_x = np.full(PARTICLES_NUM, 0.)\n",
    "particles_y = np.full(PARTICLES_NUM, 0.)\n",
    "weights = np.full(PARTICLES_NUM, 1.0 / PARTICLES_NUM)\n",
    "obs_pos = randmark_pos = [0.1, 2.2, 0.0]\n",
    "\n",
    "\n",
    "for i in range(PARTICLES_NUM):\n",
    "    true_randmark_pos = [0.0, 2.0, 0.0]\n",
    "    dx = true_randmark_pos[0] - particles_x[i]\n",
    "    dy = true_randmark_pos[1] - particles_y[i]\n",
    "    d = math.sqrt(dx ** 2 + dy ** 2)\n",
    "    phi = math.atan2(dy, dx) - particles_theta[i]\n",
    "    while phi >= np.pi:\n",
    "        phi -= 2 * np.pi\n",
    "    while phi < -np.pi:\n",
    "        phi += 2 * np.pi\n",
    "\n",
    "    particle_suggest_pos = [d, phi]\n",
    "\n",
    "    ###尤度の計算###\n",
    "    distance_dev_rate = 1000\n",
    "    direction_dev = 1000\n",
    "    obs_pos = randmark_pos\n",
    "    distance_dev = distance_dev_rate * particle_suggest_pos[0]\n",
    "    cov = np.diag(np.array([distance_dev ** 2, direction_dev ** 2]))\n",
    "    weights[i] *= multivariate_normal(mean = particle_suggest_pos, cov = cov).pdf(obs_pos)\n",
    "    print(weights[i])\n"
   ]
  },
  {
   "cell_type": "code",
   "execution_count": null,
   "metadata": {},
   "outputs": [],
   "source": []
  }
 ]
}